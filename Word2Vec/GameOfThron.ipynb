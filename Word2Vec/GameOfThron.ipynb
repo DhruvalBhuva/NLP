{
 "cells": [
  {
   "cell_type": "code",
   "execution_count": 3,
   "metadata": {},
   "outputs": [],
   "source": [
    "import numpy as np\n",
    "import pandas as pd\n",
    "import gensim\n",
    "import os\n",
    "from nltk import sent_tokenize\n",
    "from gensim.utils import simple_preprocess"
   ]
  },
  {
   "cell_type": "code",
   "execution_count": 5,
   "metadata": {},
   "outputs": [],
   "source": [
    "story = []\n",
    "\n",
    "for filename in os.listdir('Dataset'):\n",
    "    file = open(os.path.join(\"Dataset\", filename))\n",
    "    corpus = file.read()\n",
    "    raw_sentence = sent_tokenize(corpus)\n",
    "    for sentence in raw_sentence:\n",
    "        story.append(simple_preprocess(sentence))"
   ]
  },
  {
   "cell_type": "code",
   "execution_count": 8,
   "metadata": {},
   "outputs": [
    {
     "name": "stdout",
     "output_type": "stream",
     "text": [
      "145020\n"
     ]
    }
   ],
   "source": [
    "print(len(story))\n",
    "# story"
   ]
  },
  {
   "cell_type": "code",
   "execution_count": 10,
   "metadata": {},
   "outputs": [],
   "source": [
    "# window: The maximum distance between the current and predicted word within a sentence.\n",
    "# min_count: Ignores all words with total frequency lower than this.\n",
    "# workers: Use these many worker threads to train the model (=faster training with multicore machines).\n",
    "model = gensim.models.Word2Vec(\n",
    "    window=10, min_count=2, workers=4, vector_size=100)"
   ]
  },
  {
   "cell_type": "code",
   "execution_count": 11,
   "metadata": {},
   "outputs": [],
   "source": [
    "model.build_vocab(story)"
   ]
  },
  {
   "cell_type": "code",
   "execution_count": 12,
   "metadata": {},
   "outputs": [
    {
     "data": {
      "text/plain": [
       "(6569022, 8628190)"
      ]
     },
     "execution_count": 12,
     "metadata": {},
     "output_type": "execute_result"
    }
   ],
   "source": [
    "model.train(story, total_examples=model.corpus_count, epochs=model.epochs)"
   ]
  },
  {
   "cell_type": "code",
   "execution_count": 13,
   "metadata": {},
   "outputs": [
    {
     "data": {
      "text/plain": [
       "[('stormborn', 0.7923920750617981),\n",
       " ('targaryen', 0.7917531132698059),\n",
       " ('princess', 0.7315335273742676),\n",
       " ('elia', 0.7229293584823608),\n",
       " ('unburnt', 0.7199075222015381),\n",
       " ('rhaegar', 0.6851088404655457),\n",
       " ('aegon', 0.6839161515235901),\n",
       " ('myrcella', 0.6771818995475769),\n",
       " ('queen', 0.675822377204895),\n",
       " ('jenny', 0.6747910976409912)]"
      ]
     },
     "execution_count": 13,
     "metadata": {},
     "output_type": "execute_result"
    }
   ],
   "source": [
    "# It will print all the words related daenerys\n",
    "model.wv.most_similar(\"daenerys\")"
   ]
  },
  {
   "cell_type": "code",
   "execution_count": 17,
   "metadata": {},
   "outputs": [
    {
     "data": {
      "text/plain": [
       "'jon'"
      ]
     },
     "execution_count": 17,
     "metadata": {},
     "output_type": "execute_result"
    }
   ],
   "source": [
    "# \"Jon\" is diffrent from others, others are cousins\n",
    "model.wv.doesnt_match([\"jon\", \"rikon\", \"robb\", \"arya\", \"sansa\", \"bran\"])"
   ]
  },
  {
   "cell_type": "code",
   "execution_count": 18,
   "metadata": {},
   "outputs": [
    {
     "data": {
      "text/plain": [
       "'bronn'"
      ]
     },
     "execution_count": 18,
     "metadata": {},
     "output_type": "execute_result"
    }
   ],
   "source": [
    "# bronn is diffrent from others\n",
    "model.wv.doesnt_match([\"cersei\", \"jaime\", \"bronn\", \"tyrion\"])"
   ]
  },
  {
   "cell_type": "code",
   "execution_count": 16,
   "metadata": {},
   "outputs": [
    {
     "data": {
      "text/plain": [
       "array([-0.444146  , -0.7432829 , -1.2598553 , -0.92181116,  0.10688794,\n",
       "       -0.60944104,  0.50321895,  0.48778677, -2.1468153 , -0.3138522 ,\n",
       "       -1.518409  ,  0.4818032 ,  0.43263495, -2.3630474 ,  0.01018729,\n",
       "       -0.32954967,  0.5164952 ,  3.47644   ,  1.0148877 , -0.5321463 ,\n",
       "        2.1642606 , -2.5362906 , -0.8403213 ,  1.9357666 , -0.22616406,\n",
       "       -1.56578   ,  2.0944457 ,  0.7115423 ,  0.72849387, -0.8910567 ,\n",
       "       -2.1558921 , -1.0010891 , -0.0887501 , -1.7853795 ,  1.7669979 ,\n",
       "        0.6649412 ,  1.0149761 ,  0.00538142,  0.46163526, -1.3363612 ,\n",
       "       -1.0228379 , -1.7552032 ,  0.28748938,  1.0717545 ,  1.0243027 ,\n",
       "       -3.2778132 , -0.01607786,  1.3288836 , -1.6610186 , -0.03832102,\n",
       "        0.03196004, -0.4541148 ,  2.0480604 , -0.5190655 , -0.61130357,\n",
       "       -0.7441726 , -0.72403413, -1.9356238 ,  0.13987395, -0.19436942,\n",
       "        1.5313241 ,  0.95564854,  0.52567005, -1.6767005 ,  0.2504308 ,\n",
       "       -0.19599454,  0.71388507,  3.2163851 ,  0.24078506, -0.2062643 ,\n",
       "        0.96078694, -0.6570385 ,  0.32526815, -1.5453473 , -0.0415359 ,\n",
       "        1.9517154 , -1.7529044 ,  2.0349388 , -0.30314574, -0.48519933,\n",
       "       -1.3795117 , -2.662729  , -0.09052433, -0.08330174, -2.6437027 ,\n",
       "        1.6191812 , -0.76464945, -0.8251634 ,  1.2640457 , -2.1676102 ,\n",
       "       -0.44471216,  2.5746167 ,  0.44978037, -0.30594257,  2.1386247 ,\n",
       "       -2.8280222 ,  0.00569262, -2.1513658 ,  0.36774424, -0.12661564],\n",
       "      dtype=float32)"
      ]
     },
     "execution_count": 16,
     "metadata": {},
     "output_type": "execute_result"
    }
   ],
   "source": [
    "# Vector of \"jon\"\n",
    "model.wv[\"jon\"]"
   ]
  },
  {
   "cell_type": "code",
   "execution_count": 19,
   "metadata": {},
   "outputs": [
    {
     "data": {
      "text/plain": [
       "0.853336"
      ]
     },
     "execution_count": 19,
     "metadata": {},
     "output_type": "execute_result"
    }
   ],
   "source": [
    "# Arya and sansa are sister so high similarity\n",
    "model.wv.similarity(\"arya\", \"sansa\")"
   ]
  },
  {
   "cell_type": "code",
   "execution_count": null,
   "metadata": {},
   "outputs": [],
   "source": [
    "# tywin and sansa are diffrent so low similarity\n",
    "model.wv.similarity(\"tywin\", \"sansa\")"
   ]
  },
  {
   "cell_type": "code",
   "execution_count": null,
   "metadata": {},
   "outputs": [],
   "source": []
  }
 ],
 "metadata": {
  "kernelspec": {
   "display_name": "Python 3",
   "language": "python",
   "name": "python3"
  },
  "language_info": {
   "codemirror_mode": {
    "name": "ipython",
    "version": 3
   },
   "file_extension": ".py",
   "mimetype": "text/x-python",
   "name": "python",
   "nbconvert_exporter": "python",
   "pygments_lexer": "ipython3",
   "version": "3.10.11"
  },
  "orig_nbformat": 4
 },
 "nbformat": 4,
 "nbformat_minor": 2
}
